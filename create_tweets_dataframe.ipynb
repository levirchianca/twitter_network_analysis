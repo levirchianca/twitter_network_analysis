{
  "cells": [
    {
      "cell_type": "markdown",
      "source": [
        "# Get tweets via API and create Data Frame\n",
        "Authors: [Brenda Alexandra de Souza Silva](https://github.com/breudes), [Paulo Vanzolini Moura da Silva](https://github.com/paulovanzo) and [Levir Chianca Medeiros dos Santos](https://github.com/levirchianca)"
      ],
      "metadata": {
        "id": "LZFiU_h3grkV"
      }
    },
    {
      "cell_type": "markdown",
      "source": [
        "# Imports"
      ],
      "metadata": {
        "id": "Q9MWVvhjYwpM"
      }
    },
    {
      "cell_type": "code",
      "source": [
        "!pip install nxviz==0.6.3\n",
        "!pip install matplotlib==3.1.3\n",
        "!python -m pip install scipy\n",
        "!pip install pandas --upgrade\n",
        "!pip install Twython"
      ],
      "metadata": {
        "colab": {
          "base_uri": "https://localhost:8080/",
          "height": 1000
        },
        "id": "RQ-SsPQSYilS",
        "outputId": "f1afdfbe-b030-4c1f-b67f-89a339f21f44"
      },
      "execution_count": null,
      "outputs": [
        {
          "output_type": "stream",
          "name": "stdout",
          "text": [
            "Collecting nxviz==0.6.3\n",
            "  Downloading nxviz-0.6.3-py3-none-any.whl (20 kB)\n",
            "Requirement already satisfied: more-itertools>=8.6.0 in /usr/local/lib/python3.7/dist-packages (from nxviz==0.6.3) (8.12.0)\n",
            "Requirement already satisfied: seaborn>=0.11.1 in /usr/local/lib/python3.7/dist-packages (from nxviz==0.6.3) (0.11.2)\n",
            "Collecting matplotlib>=3.3.3\n",
            "  Downloading matplotlib-3.5.1-cp37-cp37m-manylinux_2_5_x86_64.manylinux1_x86_64.whl (11.2 MB)\n",
            "\u001b[K     |████████████████████████████████| 11.2 MB 4.2 MB/s \n",
            "\u001b[?25hRequirement already satisfied: pandas>=1.2.0 in /usr/local/lib/python3.7/dist-packages (from nxviz==0.6.3) (1.3.5)\n",
            "Requirement already satisfied: palettable>=3.3.0 in /usr/local/lib/python3.7/dist-packages (from nxviz==0.6.3) (3.3.0)\n",
            "Requirement already satisfied: numpy>=1.19.4 in /usr/local/lib/python3.7/dist-packages (from nxviz==0.6.3) (1.21.5)\n",
            "Requirement already satisfied: networkx>=2.5 in /usr/local/lib/python3.7/dist-packages (from nxviz==0.6.3) (2.6.3)\n",
            "Requirement already satisfied: cycler>=0.10 in /usr/local/lib/python3.7/dist-packages (from matplotlib>=3.3.3->nxviz==0.6.3) (0.11.0)\n",
            "Requirement already satisfied: python-dateutil>=2.7 in /usr/local/lib/python3.7/dist-packages (from matplotlib>=3.3.3->nxviz==0.6.3) (2.8.2)\n",
            "Requirement already satisfied: kiwisolver>=1.0.1 in /usr/local/lib/python3.7/dist-packages (from matplotlib>=3.3.3->nxviz==0.6.3) (1.3.2)\n",
            "Requirement already satisfied: pillow>=6.2.0 in /usr/local/lib/python3.7/dist-packages (from matplotlib>=3.3.3->nxviz==0.6.3) (7.1.2)\n",
            "Requirement already satisfied: packaging>=20.0 in /usr/local/lib/python3.7/dist-packages (from matplotlib>=3.3.3->nxviz==0.6.3) (21.3)\n",
            "Requirement already satisfied: pyparsing>=2.2.1 in /usr/local/lib/python3.7/dist-packages (from matplotlib>=3.3.3->nxviz==0.6.3) (3.0.7)\n",
            "Collecting fonttools>=4.22.0\n",
            "  Downloading fonttools-4.29.1-py3-none-any.whl (895 kB)\n",
            "\u001b[K     |████████████████████████████████| 895 kB 63.5 MB/s \n",
            "\u001b[?25hRequirement already satisfied: pytz>=2017.3 in /usr/local/lib/python3.7/dist-packages (from pandas>=1.2.0->nxviz==0.6.3) (2018.9)\n",
            "Requirement already satisfied: six>=1.5 in /usr/local/lib/python3.7/dist-packages (from python-dateutil>=2.7->matplotlib>=3.3.3->nxviz==0.6.3) (1.15.0)\n",
            "Requirement already satisfied: scipy>=1.0 in /usr/local/lib/python3.7/dist-packages (from seaborn>=0.11.1->nxviz==0.6.3) (1.4.1)\n",
            "Installing collected packages: fonttools, matplotlib, nxviz\n",
            "  Attempting uninstall: matplotlib\n",
            "    Found existing installation: matplotlib 3.2.2\n",
            "    Uninstalling matplotlib-3.2.2:\n",
            "      Successfully uninstalled matplotlib-3.2.2\n",
            "\u001b[31mERROR: pip's dependency resolver does not currently take into account all the packages that are installed. This behaviour is the source of the following dependency conflicts.\n",
            "albumentations 0.1.12 requires imgaug<0.2.7,>=0.2.5, but you have imgaug 0.2.9 which is incompatible.\u001b[0m\n",
            "Successfully installed fonttools-4.29.1 matplotlib-3.5.1 nxviz-0.6.3\n"
          ]
        },
        {
          "output_type": "display_data",
          "data": {
            "application/vnd.colab-display-data+json": {
              "pip_warning": {
                "packages": [
                  "matplotlib",
                  "mpl_toolkits"
                ]
              }
            }
          },
          "metadata": {}
        },
        {
          "output_type": "stream",
          "name": "stdout",
          "text": [
            "Collecting matplotlib==3.1.3\n",
            "  Downloading matplotlib-3.1.3-cp37-cp37m-manylinux1_x86_64.whl (13.1 MB)\n",
            "\u001b[K     |████████████████████████████████| 13.1 MB 4.6 MB/s \n",
            "\u001b[?25hRequirement already satisfied: pyparsing!=2.0.4,!=2.1.2,!=2.1.6,>=2.0.1 in /usr/local/lib/python3.7/dist-packages (from matplotlib==3.1.3) (3.0.7)\n",
            "Requirement already satisfied: python-dateutil>=2.1 in /usr/local/lib/python3.7/dist-packages (from matplotlib==3.1.3) (2.8.2)\n",
            "Requirement already satisfied: numpy>=1.11 in /usr/local/lib/python3.7/dist-packages (from matplotlib==3.1.3) (1.21.5)\n",
            "Requirement already satisfied: cycler>=0.10 in /usr/local/lib/python3.7/dist-packages (from matplotlib==3.1.3) (0.11.0)\n",
            "Requirement already satisfied: kiwisolver>=1.0.1 in /usr/local/lib/python3.7/dist-packages (from matplotlib==3.1.3) (1.3.2)\n",
            "Requirement already satisfied: six>=1.5 in /usr/local/lib/python3.7/dist-packages (from python-dateutil>=2.1->matplotlib==3.1.3) (1.15.0)\n",
            "Installing collected packages: matplotlib\n",
            "  Attempting uninstall: matplotlib\n",
            "    Found existing installation: matplotlib 3.5.1\n",
            "    Uninstalling matplotlib-3.5.1:\n",
            "      Successfully uninstalled matplotlib-3.5.1\n",
            "\u001b[31mERROR: pip's dependency resolver does not currently take into account all the packages that are installed. This behaviour is the source of the following dependency conflicts.\n",
            "nxviz 0.6.3 requires matplotlib>=3.3.3, but you have matplotlib 3.1.3 which is incompatible.\n",
            "albumentations 0.1.12 requires imgaug<0.2.7,>=0.2.5, but you have imgaug 0.2.9 which is incompatible.\u001b[0m\n",
            "Successfully installed matplotlib-3.1.3\n"
          ]
        },
        {
          "output_type": "display_data",
          "data": {
            "application/vnd.colab-display-data+json": {
              "pip_warning": {
                "packages": [
                  "matplotlib",
                  "mpl_toolkits"
                ]
              }
            }
          },
          "metadata": {}
        },
        {
          "output_type": "stream",
          "name": "stdout",
          "text": [
            "Requirement already satisfied: scipy in /usr/local/lib/python3.7/dist-packages (1.4.1)\n",
            "Requirement already satisfied: numpy>=1.13.3 in /usr/local/lib/python3.7/dist-packages (from scipy) (1.21.5)\n",
            "Requirement already satisfied: pandas in /usr/local/lib/python3.7/dist-packages (1.3.5)\n",
            "Requirement already satisfied: numpy>=1.17.3 in /usr/local/lib/python3.7/dist-packages (from pandas) (1.21.5)\n",
            "Requirement already satisfied: python-dateutil>=2.7.3 in /usr/local/lib/python3.7/dist-packages (from pandas) (2.8.2)\n",
            "Requirement already satisfied: pytz>=2017.3 in /usr/local/lib/python3.7/dist-packages (from pandas) (2018.9)\n",
            "Requirement already satisfied: six>=1.5 in /usr/local/lib/python3.7/dist-packages (from python-dateutil>=2.7.3->pandas) (1.15.0)\n",
            "Collecting Twython\n",
            "  Downloading twython-3.9.1-py3-none-any.whl (33 kB)\n",
            "Requirement already satisfied: requests-oauthlib>=0.4.0 in /usr/local/lib/python3.7/dist-packages (from Twython) (1.3.1)\n",
            "Requirement already satisfied: requests>=2.1.0 in /usr/local/lib/python3.7/dist-packages (from Twython) (2.23.0)\n",
            "Requirement already satisfied: urllib3!=1.25.0,!=1.25.1,<1.26,>=1.21.1 in /usr/local/lib/python3.7/dist-packages (from requests>=2.1.0->Twython) (1.24.3)\n",
            "Requirement already satisfied: certifi>=2017.4.17 in /usr/local/lib/python3.7/dist-packages (from requests>=2.1.0->Twython) (2021.10.8)\n",
            "Requirement already satisfied: idna<3,>=2.5 in /usr/local/lib/python3.7/dist-packages (from requests>=2.1.0->Twython) (2.10)\n",
            "Requirement already satisfied: chardet<4,>=3.0.2 in /usr/local/lib/python3.7/dist-packages (from requests>=2.1.0->Twython) (3.0.4)\n",
            "Requirement already satisfied: oauthlib>=3.0.0 in /usr/local/lib/python3.7/dist-packages (from requests-oauthlib>=0.4.0->Twython) (3.2.0)\n",
            "Installing collected packages: Twython\n",
            "Successfully installed Twython-3.9.1\n"
          ]
        }
      ]
    },
    {
      "cell_type": "code",
      "source": [
        "import networkx as nx\n",
        "import matplotlib.pyplot as plt\n",
        "import matplotlib.patches as mpatches\n",
        "import nxviz as nv\n",
        "import pandas as pd\n",
        "import numpy as np\n",
        "import json\n",
        "import seaborn as sns\n",
        "import scipy.stats as st\n",
        "from twython import Twython, TwythonError\n",
        "from time import sleep"
      ],
      "metadata": {
        "id": "pqV308YrYi8p"
      },
      "execution_count": null,
      "outputs": []
    },
    {
      "cell_type": "markdown",
      "source": [
        "# Get Twitter's API Authentication"
      ],
      "metadata": {
        "id": "Ubx732XlYy0K"
      }
    },
    {
      "cell_type": "markdown",
      "source": [
        "\n",
        "> Get crendencials from .txt file (for security purpose)\n",
        "\n",
        "\n"
      ],
      "metadata": {
        "id": "yrapXwcdY6IA"
      }
    },
    {
      "cell_type": "code",
      "source": [
        "# open the keys file\n",
        "my_file = open(\"auth_keys.txt\", \"r\")\n",
        "# read the raw data\n",
        "content = my_file.read()\n",
        "# split all lines by  newline character\n",
        "API_KEY, API_SECRET_KEY, AUTH_TOKEN, AUTH_SECRET_TOKEN, BEARER_TOKEN = content.split(\"\\n\")\n",
        "# close the file\n",
        "my_file.close()"
      ],
      "metadata": {
        "id": "z187EdiqYlIy"
      },
      "execution_count": null,
      "outputs": []
    },
    {
      "cell_type": "markdown",
      "source": [
        "\n",
        "\n",
        "> Create twython object with API's authentication\n",
        "\n"
      ],
      "metadata": {
        "id": "DRjEd4Y6Y6uY"
      }
    },
    {
      "cell_type": "code",
      "source": [
        "# twython object\n",
        "twitter = Twython(API_KEY, API_SECRET_KEY)\n",
        "# get authentication tokens\n",
        "authentication_tokens = twitter.get_authentication_tokens()\n",
        "# result\n",
        "print(authentication_tokens['auth_url'])"
      ],
      "metadata": {
        "colab": {
          "base_uri": "https://localhost:8080/"
        },
        "id": "xqvGnUVYY7Kq",
        "outputId": "bed4240e-0124-445e-97af-76c6ce5bb6be"
      },
      "execution_count": null,
      "outputs": [
        {
          "output_type": "stream",
          "name": "stdout",
          "text": [
            "https://api.twitter.com/oauth/authenticate?oauth_token=BvF34QAAAAABZQCHAAABfwuoBA8\n"
          ]
        }
      ]
    },
    {
      "cell_type": "markdown",
      "source": [
        "# Get Tweets with Specific Keywords"
      ],
      "metadata": {
        "id": "0LDtWkgJZor5"
      }
    },
    {
      "cell_type": "markdown",
      "source": [
        "This project we work on tweets about **vaccine passport** created on **language portuguese**, which means, tweets all over countries who talks and writes in portuguese - considering this, those keywords will be define on this theme. We are only interested on **recent tweets**, made within the **time of seven days (one week)**. "
      ],
      "metadata": {
        "id": "Th_OBBKGeRfx"
      }
    },
    {
      "cell_type": "code",
      "source": [
        "# keywords based on theme 'vaccine passport'\n",
        "keywords = ['passaporte vacinal', 'passaporte', 'vacina', 'covid-19']\n",
        "# twitter dict with info we needed\n",
        "twitter_dict = {'keyword': [], 'user': [], 'tweet_date': [], 'text': [], 'favorite_count': [], 'retweet_count': [], 'user_tweets_count': [], 'user_creation': [], 'retweeted': [], 'retweeted_from': [], 'location': [], 'retweet_fav_count': [], 'retweet_rt_count': []}\n",
        "\n",
        "# maximum requests available for each keyword defined - there will be a sleep method to restart those resquests within 15 minutes\n",
        "for keyword in keywords:\n",
        "  print(keyword)\n",
        "  for i in range(180): # requests rate from get_twitter_search\n",
        "    tweets = twitter.search(count=100, q=keyword, result_type='recent', until='2022-02-16', lang='pt')\n",
        "    \n",
        "    # get each tweet and add it on dict\n",
        "    for tweet in tweets['statuses']:\n",
        "      twitter_dict['keyword'].append(keyword)\n",
        "      twitter_dict['user'].append(tweet['user']['screen_name'])\n",
        "      twitter_dict['tweet_date'].append(tweet['created_at'])\n",
        "      twitter_dict['text'].append(tweet['text'])\n",
        "      twitter_dict['favorite_count'].append(tweet['favorite_count'])\n",
        "      twitter_dict['user_tweets_count'].append(tweet['user']['statuses_count'])\n",
        "      twitter_dict['user_creation'].append(tweet['user']['created_at'])\n",
        "      twitter_dict['location'].append(tweet['user']['location'])\n",
        "      twitter_dict['retweet_count'].append(tweet['retweet_count'])\n",
        "      \n",
        "      # check if tweet is a retweet or not\n",
        "      if 'retweeted_status' in tweet:\n",
        "        twitter_dict['retweeted'].append(True)\n",
        "        twitter_dict['retweet_fav_count'].append(tweet['retweeted_status']['favorite_count'])\n",
        "        twitter_dict['retweeted_from'].append(tweet['retweeted_status']['user']['screen_name'])\n",
        "      else:\n",
        "        twitter_dict['retweeted'].append(False)\n",
        "        twitter_dict['retweet_fav_count'].append('')\n",
        "        twitter_dict['retweeted_from'].append('')\n",
        "  if(keyword != keywords[3]):\n",
        "    sleep(901) # 15 minutes in seconds"
      ],
      "metadata": {
        "colab": {
          "base_uri": "https://localhost:8080/"
        },
        "id": "xvWO3YEKbgxR",
        "outputId": "04defe32-2a47-4b88-e761-cbde075a683a"
      },
      "execution_count": null,
      "outputs": [
        {
          "output_type": "stream",
          "name": "stdout",
          "text": [
            "passaporte vacinal\n",
            "passaporte\n",
            "vacina\n",
            "covid-19\n"
          ]
        }
      ]
    },
    {
      "cell_type": "markdown",
      "source": [
        "Turn dict into a DataFrame and save as .csv file"
      ],
      "metadata": {
        "id": "M9VvaTIWjRJN"
      }
    },
    {
      "cell_type": "code",
      "source": [
        "# turn dict into a DF object\n",
        "df_original = pd.DataFrame({\n",
        "                   'keyword': twitter_dict['keyword'],\n",
        "                   'user': twitter_dict['user'],\n",
        "                   'tweet_date': twitter_dict['tweet_date'],\n",
        "                   'text': twitter_dict['text'],\n",
        "                   'favorite_count': twitter_dict['favorite_count'],\n",
        "                   'retweet_count': twitter_dict['retweet_count'],\n",
        "                   'user_tweets_count': twitter_dict['user_tweets_count'],\n",
        "                   'user_creation': twitter_dict['user_creation'],\n",
        "                   'location': twitter_dict['location'],\n",
        "                   'retweeted': twitter_dict['retweeted'],\n",
        "                   'retweet_fav_count': twitter_dict['retweet_fav_count'],\n",
        "                   'retweeted_from': twitter_dict['retweeted_from'],\n",
        "})\n",
        "\n",
        "df_original.drop_duplicates(keep='last') # drop duplicates and keep last occurance\n",
        "df_original.to_csv(\"tweets_dataframe.csv\") # saves DF on a .csv file"
      ],
      "metadata": {
        "id": "1v5rTibjgR5P"
      },
      "execution_count": null,
      "outputs": []
    },
    {
      "cell_type": "code",
      "source": [
        "df_original.head(5)"
      ],
      "metadata": {
        "colab": {
          "base_uri": "https://localhost:8080/",
          "height": 424
        },
        "id": "mAxiJnGHjrhF",
        "outputId": "8a3f0d9c-743b-4a3f-8952-b631946b340e"
      },
      "execution_count": null,
      "outputs": [
        {
          "output_type": "execute_result",
          "data": {
            "text/html": [
              "\n",
              "  <div id=\"df-91c9a059-5fa5-4d99-9c04-1062bd14e095\">\n",
              "    <div class=\"colab-df-container\">\n",
              "      <div>\n",
              "<style scoped>\n",
              "    .dataframe tbody tr th:only-of-type {\n",
              "        vertical-align: middle;\n",
              "    }\n",
              "\n",
              "    .dataframe tbody tr th {\n",
              "        vertical-align: top;\n",
              "    }\n",
              "\n",
              "    .dataframe thead th {\n",
              "        text-align: right;\n",
              "    }\n",
              "</style>\n",
              "<table border=\"1\" class=\"dataframe\">\n",
              "  <thead>\n",
              "    <tr style=\"text-align: right;\">\n",
              "      <th></th>\n",
              "      <th>keyword</th>\n",
              "      <th>user</th>\n",
              "      <th>tweet_date</th>\n",
              "      <th>text</th>\n",
              "      <th>favorite_count</th>\n",
              "      <th>retweet_count</th>\n",
              "      <th>user_tweets_count</th>\n",
              "      <th>user_creation</th>\n",
              "      <th>location</th>\n",
              "      <th>retweeted</th>\n",
              "      <th>retweet_fav_count</th>\n",
              "      <th>retweeted_from</th>\n",
              "    </tr>\n",
              "  </thead>\n",
              "  <tbody>\n",
              "    <tr>\n",
              "      <th>0</th>\n",
              "      <td>passaporte vacinal</td>\n",
              "      <td>DebacoAlan</td>\n",
              "      <td>Tue Feb 15 23:59:57 +0000 2022</td>\n",
              "      <td>RT @Jrodrigues1954: REJEITOU:\\nA Assembleia Le...</td>\n",
              "      <td>0</td>\n",
              "      <td>1387</td>\n",
              "      <td>4577</td>\n",
              "      <td>Fri Sep 29 10:02:12 +0000 2017</td>\n",
              "      <td>Centro, Novo Hamburgo</td>\n",
              "      <td>True</td>\n",
              "      <td>6351</td>\n",
              "      <td>Jrodrigues1954</td>\n",
              "    </tr>\n",
              "    <tr>\n",
              "      <th>1</th>\n",
              "      <td>passaporte vacinal</td>\n",
              "      <td>LigiaGuerra7</td>\n",
              "      <td>Tue Feb 15 23:59:54 +0000 2022</td>\n",
              "      <td>RT @Jrodrigues1954: REJEITOU:\\nA Assembleia Le...</td>\n",
              "      <td>0</td>\n",
              "      <td>1387</td>\n",
              "      <td>89906</td>\n",
              "      <td>Sat Feb 03 15:05:08 +0000 2018</td>\n",
              "      <td>São Paulo, Brasil</td>\n",
              "      <td>True</td>\n",
              "      <td>6351</td>\n",
              "      <td>Jrodrigues1954</td>\n",
              "    </tr>\n",
              "    <tr>\n",
              "      <th>2</th>\n",
              "      <td>passaporte vacinal</td>\n",
              "      <td>VilmaThomasCos1</td>\n",
              "      <td>Tue Feb 15 23:59:36 +0000 2022</td>\n",
              "      <td>RT @Jrodrigues1954: REJEITOU:\\nA Assembleia Le...</td>\n",
              "      <td>0</td>\n",
              "      <td>1387</td>\n",
              "      <td>70737</td>\n",
              "      <td>Wed Feb 26 23:40:26 +0000 2020</td>\n",
              "      <td></td>\n",
              "      <td>True</td>\n",
              "      <td>6351</td>\n",
              "      <td>Jrodrigues1954</td>\n",
              "    </tr>\n",
              "    <tr>\n",
              "      <th>3</th>\n",
              "      <td>passaporte vacinal</td>\n",
              "      <td>escoladeprofeta</td>\n",
              "      <td>Tue Feb 15 23:59:32 +0000 2022</td>\n",
              "      <td>RT @Jrodrigues1954: REJEITOU:\\nA Assembleia Le...</td>\n",
              "      <td>0</td>\n",
              "      <td>1387</td>\n",
              "      <td>17705</td>\n",
              "      <td>Mon Aug 17 17:50:43 +0000 2009</td>\n",
              "      <td>ainda bem, eu vou morar no céu</td>\n",
              "      <td>True</td>\n",
              "      <td>6351</td>\n",
              "      <td>Jrodrigues1954</td>\n",
              "    </tr>\n",
              "    <tr>\n",
              "      <th>4</th>\n",
              "      <td>passaporte vacinal</td>\n",
              "      <td>PedroVa18482025</td>\n",
              "      <td>Tue Feb 15 23:59:29 +0000 2022</td>\n",
              "      <td>RT @Jrodrigues1954: REJEITOU:\\nA Assembleia Le...</td>\n",
              "      <td>0</td>\n",
              "      <td>1387</td>\n",
              "      <td>10727</td>\n",
              "      <td>Wed Oct 28 15:51:59 +0000 2020</td>\n",
              "      <td>Varginha, Brasil</td>\n",
              "      <td>True</td>\n",
              "      <td>6351</td>\n",
              "      <td>Jrodrigues1954</td>\n",
              "    </tr>\n",
              "  </tbody>\n",
              "</table>\n",
              "</div>\n",
              "      <button class=\"colab-df-convert\" onclick=\"convertToInteractive('df-91c9a059-5fa5-4d99-9c04-1062bd14e095')\"\n",
              "              title=\"Convert this dataframe to an interactive table.\"\n",
              "              style=\"display:none;\">\n",
              "        \n",
              "  <svg xmlns=\"http://www.w3.org/2000/svg\" height=\"24px\"viewBox=\"0 0 24 24\"\n",
              "       width=\"24px\">\n",
              "    <path d=\"M0 0h24v24H0V0z\" fill=\"none\"/>\n",
              "    <path d=\"M18.56 5.44l.94 2.06.94-2.06 2.06-.94-2.06-.94-.94-2.06-.94 2.06-2.06.94zm-11 1L8.5 8.5l.94-2.06 2.06-.94-2.06-.94L8.5 2.5l-.94 2.06-2.06.94zm10 10l.94 2.06.94-2.06 2.06-.94-2.06-.94-.94-2.06-.94 2.06-2.06.94z\"/><path d=\"M17.41 7.96l-1.37-1.37c-.4-.4-.92-.59-1.43-.59-.52 0-1.04.2-1.43.59L10.3 9.45l-7.72 7.72c-.78.78-.78 2.05 0 2.83L4 21.41c.39.39.9.59 1.41.59.51 0 1.02-.2 1.41-.59l7.78-7.78 2.81-2.81c.8-.78.8-2.07 0-2.86zM5.41 20L4 18.59l7.72-7.72 1.47 1.35L5.41 20z\"/>\n",
              "  </svg>\n",
              "      </button>\n",
              "      \n",
              "  <style>\n",
              "    .colab-df-container {\n",
              "      display:flex;\n",
              "      flex-wrap:wrap;\n",
              "      gap: 12px;\n",
              "    }\n",
              "\n",
              "    .colab-df-convert {\n",
              "      background-color: #E8F0FE;\n",
              "      border: none;\n",
              "      border-radius: 50%;\n",
              "      cursor: pointer;\n",
              "      display: none;\n",
              "      fill: #1967D2;\n",
              "      height: 32px;\n",
              "      padding: 0 0 0 0;\n",
              "      width: 32px;\n",
              "    }\n",
              "\n",
              "    .colab-df-convert:hover {\n",
              "      background-color: #E2EBFA;\n",
              "      box-shadow: 0px 1px 2px rgba(60, 64, 67, 0.3), 0px 1px 3px 1px rgba(60, 64, 67, 0.15);\n",
              "      fill: #174EA6;\n",
              "    }\n",
              "\n",
              "    [theme=dark] .colab-df-convert {\n",
              "      background-color: #3B4455;\n",
              "      fill: #D2E3FC;\n",
              "    }\n",
              "\n",
              "    [theme=dark] .colab-df-convert:hover {\n",
              "      background-color: #434B5C;\n",
              "      box-shadow: 0px 1px 3px 1px rgba(0, 0, 0, 0.15);\n",
              "      filter: drop-shadow(0px 1px 2px rgba(0, 0, 0, 0.3));\n",
              "      fill: #FFFFFF;\n",
              "    }\n",
              "  </style>\n",
              "\n",
              "      <script>\n",
              "        const buttonEl =\n",
              "          document.querySelector('#df-91c9a059-5fa5-4d99-9c04-1062bd14e095 button.colab-df-convert');\n",
              "        buttonEl.style.display =\n",
              "          google.colab.kernel.accessAllowed ? 'block' : 'none';\n",
              "\n",
              "        async function convertToInteractive(key) {\n",
              "          const element = document.querySelector('#df-91c9a059-5fa5-4d99-9c04-1062bd14e095');\n",
              "          const dataTable =\n",
              "            await google.colab.kernel.invokeFunction('convertToInteractive',\n",
              "                                                     [key], {});\n",
              "          if (!dataTable) return;\n",
              "\n",
              "          const docLinkHtml = 'Like what you see? Visit the ' +\n",
              "            '<a target=\"_blank\" href=https://colab.research.google.com/notebooks/data_table.ipynb>data table notebook</a>'\n",
              "            + ' to learn more about interactive tables.';\n",
              "          element.innerHTML = '';\n",
              "          dataTable['output_type'] = 'display_data';\n",
              "          await google.colab.output.renderOutput(dataTable, element);\n",
              "          const docLink = document.createElement('div');\n",
              "          docLink.innerHTML = docLinkHtml;\n",
              "          element.appendChild(docLink);\n",
              "        }\n",
              "      </script>\n",
              "    </div>\n",
              "  </div>\n",
              "  "
            ],
            "text/plain": [
              "              keyword             user  ... retweet_fav_count  retweeted_from\n",
              "0  passaporte vacinal       DebacoAlan  ...              6351  Jrodrigues1954\n",
              "1  passaporte vacinal     LigiaGuerra7  ...              6351  Jrodrigues1954\n",
              "2  passaporte vacinal  VilmaThomasCos1  ...              6351  Jrodrigues1954\n",
              "3  passaporte vacinal  escoladeprofeta  ...              6351  Jrodrigues1954\n",
              "4  passaporte vacinal  PedroVa18482025  ...              6351  Jrodrigues1954\n",
              "\n",
              "[5 rows x 12 columns]"
            ]
          },
          "metadata": {},
          "execution_count": 72
        }
      ]
    },
    {
      "cell_type": "markdown",
      "source": [
        "In case you didn't want to run the code above again (that took 1 hour, at least), you can get the csv file and turn the data back into a DataFrame object (via Pandas)."
      ],
      "metadata": {
        "id": "b9ohfK_VJ8vz"
      }
    },
    {
      "cell_type": "code",
      "source": [
        "# get values of specific columns on the chosen csv. file\n",
        "df = pd.read_csv('tweets_dataframe.csv', usecols= ['keyword','user','retweeted_from','retweet_fav_count','retweet_count','favorite_count'])"
      ],
      "metadata": {
        "id": "FngBWT_Vjj4W"
      },
      "execution_count": null,
      "outputs": []
    }
  ],
  "metadata": {
    "colab": {
      "collapsed_sections": [],
      "name": "create_tweets_dataframe.ipynb",
      "provenance": []
    },
    "kernelspec": {
      "display_name": "Python 3",
      "name": "python3"
    },
    "language_info": {
      "name": "python"
    }
  },
  "nbformat": 4,
  "nbformat_minor": 0
}